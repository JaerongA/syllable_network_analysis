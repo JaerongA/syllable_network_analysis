{
  "cells": [
    {
      "cell_type": "markdown",
      "metadata": {},
      "source": [
        "# Song Syllable Sequence Analysis\n",
        "\n",
        "This notebook demonstrates the syllable network analysis functionality."
      ]
    },
    {
      "cell_type": "code",
      "execution_count": null,
      "metadata": {},
      "outputs": [],
      "source": [
        "import sys\n",
        "sys.path.append('../src')\n",
        "\n",
        "import matplotlib.pyplot as plt\n",
        "import matplotlib\n",
        "import numpy as np\n",
        "from numpy import random\n",
        "from pathlib import Path\n",
        "import seaborn as sns\n",
        "import warnings\n",
        "warnings.filterwarnings('ignore')\n",
        "\n",
        "from syllable_network_analysis.analysis import (\n",
        "    get_trans_matrix,\n",
        "    get_syllable_network,\n",
        "    get_trans_entropy,\n",
        "    get_sequence_linearity,\n",
        "    get_sequence_consistency,\n",
        "    get_song_stereotypy\n",
        ")\n",
        "from syllable_network_analysis.plot import plot_transition_diag\n",
        "\n",
        "# Configure matplotlib\n",
        "matplotlib.rcParams['pdf.fonttype'] = 42\n",
        "matplotlib.rcParams['ps.fonttype'] = 42"
      ]
    },
    {
      "cell_type": "markdown",
      "metadata": {},
      "source": [
        "## Load Sample Data\n",
        "\n",
        "Sample data from one recording session:"
      ]
    },
    {
      "cell_type": "code",
      "execution_count": null,
      "metadata": {},
      "outputs": [],
      "source": [
        "# Sample data from one recording session\n",
        "syllables = 'kiiiiabcdjiabcdjiabcd*iiiabcdk*iiii*iiiabcdjiabcdk*kiiiiiabcdjia*kiiiiiabcdjjabcd*iiiiabcd*iiiiabcdk*iiiiab*k*iiiiabcdk*iiiabcdjiabcd*iiiabcd*iiiabcdjiabcdk*iiabcd*iiiiiabcdjiabcd*iiiiabcd*iiiiiabcdjiabcdk*k*iiiabcdjiak*iiiabcdjiaj*kmmiiiabcdjiabcd*iiiiabcdjiabcd*iiiiiabcdk*iiiiabcdjiabcd*iiiiabcd*'\n",
        "song_note = ('a', 'b', 'c', 'd')\n",
        "calls = ('m')\n",
        "intro_notes = ('i')\n",
        "note_seq = ('i', 'a', 'b', 'c', 'd', 'j', 'k', 'm', '*')  # syllabic sequence, asterisk indicates stop\n",
        "song_name = '017-g35r38-Predeafening-D36-20190617'\n",
        "cmap_list = [\"YlGnBu\", \"PiYG\"]"
      ]
    },
    {
      "cell_type": "markdown",
      "metadata": {},
      "source": [
        "## Count Notes\n",
        "\n",
        "Count the number of notes (except for stop):"
      ]
    },
    {
      "cell_type": "code",
      "execution_count": null,
      "metadata": {},
      "outputs": [],
      "source": [
        "# Count the number of notes (except for stop)\n",
        "note_count = {}\n",
        "\n",
        "for note in set(syllables):\n",
        "    note_count[note] = syllables.count(note)\n",
        "note_count.pop('*')\n",
        "note_count"
      ]
    },
    {
      "cell_type": "markdown",
      "metadata": {},
      "source": [
        "## Audio Files\n",
        "\n",
        "List available audio files:"
      ]
    },
    {
      "cell_type": "code",
      "execution_count": null,
      "metadata": {},
      "outputs": [],
      "source": [
        "# List available audio files\n",
        "data_dir = Path(\"../data/raw/\")\n",
        "audio_files = list(data_dir.glob('*.wav'))\n",
        "for file in audio_files:\n",
        "    print(file.name)"
      ]
    },
    {
      "cell_type": "markdown",
      "metadata": {},
      "source": [
        "## Assign Colors to Syllables\n",
        "\n",
        "Assign different colors for different syllable types:"
      ]
    },
    {
      "cell_type": "code",
      "execution_count": null,
      "metadata": {},
      "outputs": [],
      "source": [
        "# Assign colors to syllables\n",
        "motif_color = ['r', 'b', 'lime', 'm', 'darkorange', 'purple', 'saddlebrown']\n",
        "intro_color = ['k', 'gray', 'darkseagreen', 'olive'] \n",
        "call_color = ['teal', 'darkslategray', 'darkgray','indigo']\n",
        "\n",
        "song_note = ['a', 'b', 'c', 'd']\n",
        "calls = ['m']\n",
        "intro_notes = ['i']\n",
        "\n",
        "syl_color = []\n",
        "\n",
        "for i, note in enumerate(note_seq[:-1]):\n",
        "    if note in song_note:\n",
        "        syl_color.append(motif_color.pop(0))\n",
        "    elif note in intro_notes:\n",
        "        syl_color.append(intro_color.pop(0))\n",
        "    elif note in calls:\n",
        "        syl_color.append(call_color.pop(0))\n",
        "    else:\n",
        "        syl_color.append(intro_color.pop(0))\n",
        "        \n",
        "syl_color.append('y')  # for stop at the end \n",
        "\n",
        "print(note_seq)\n",
        "print(syl_color)"
      ]
    },
    {
      "cell_type": "markdown",
      "metadata": [],
      "source": [
        "## Analyze Syllable Transitions\n",
        "\n",
        "Build transition matrix and analyze syllable network:"
      ]
    },
    {
      "cell_type": "code",
      "execution_count": null,
      "metadata": {},
      "outputs": [],
      "source": [
        "# Build transition matrix\n",
        "trans_matrix = get_trans_matrix(syllables, note_seq)\n",
        "print(\"Transition Matrix:\")\n",
        "print(trans_matrix)\n",
        "\n",
        "# Get syllable network\n",
        "syl_network = get_syllable_network(trans_matrix)\n",
        "print(f\"\\nSyllable Network ({len(syl_network)} transitions):\")\n",
        "for start, end, weight in syl_network:\n",
        "    print(f\"  {note_seq[start]} -> {note_seq[end]}: {weight}\")"
      ]
    },
    {
      "cell_type": "markdown",
      "metadata": {},
      "source": [
        "## Calculate Metrics\n",
        "\n",
        "Calculate various sequence analysis metrics:"
      ]
    },
    {
      "cell_type": "code",
      "execution_count": null,
      "metadata": {},
      "outputs": [],
      "source": [
        "# Calculate metrics\n",
        "trans_entropy = get_trans_entropy(trans_matrix)\n",
        "sequence_linearity = get_sequence_linearity(note_seq, syl_network)\n",
        "sequence_consistency = get_sequence_consistency(note_seq, trans_matrix)\n",
        "song_stereotypy = get_song_stereotypy(sequence_linearity, sequence_consistency)\n",
        "\n",
        "print(f\"Transition Entropy: {trans_entropy:.4f}\")\n",
        "print(f\"Sequence Linearity: {sequence_linearity:.4f}\")\n",
        "print(f\"Sequence Consistency: {sequence_consistency:.4f}\")\n",
        "print(f\"Song Stereotypy: {song_stereotypy:.4f}\")"
      ]
    },
    {
      "cell_type": "markdown",
      "metadata": {},
      "source": [
        "## Visualize Transition Diagram\n",
        "\n",
        "Create a visualization of the syllable transition network:"
      ]
    },
    {
      "cell_type": "code",
      "execution_count": null,
      "metadata": {},
      "outputs": [],
      "source": [
        "# Create color mapping for visualization\n",
        "syl_color_dict = dict(zip(note_seq, syl_color))\n",
        "\n",
        "# Create the plot\n",
        "fig, ax = plt.subplots(1, 1, figsize=(10, 10))\n",
        "plot_transition_diag(ax, note_seq, syl_network, syl_color_dict)\n",
        "plt.title(f\"Syllable Transition Network - {song_name}\", fontsize=16)\n",
        "plt.tight_layout()\n",
        "plt.show()"
      ]
    }
  ],
  "metadata": {
    "kernelspec": {
      "display_name": "Python 3",
      "language": "python",
      "name": "python3"
    },
    "language_info": {
      "codemirror_mode": {
        "name": "ipython",
        "version": 3
      },
      "file_extension": ".py",
      "mimetype": "text/x-python",
      "name": "python",
      "nbconvert_exporter": "python",
      "pygments_lexer": "ipython3",
      "version": "3.8.0"
    }
  },
  "nbformat": 4,
  "nbformat_minor": 4
}
